{
 "cells": [
  {
   "cell_type": "code",
   "execution_count": 1,
   "id": "d2fe63ca-e535-4640-a169-0ba084878730",
   "metadata": {},
   "outputs": [],
   "source": [
    "import pandas as pd"
   ]
  },
  {
   "cell_type": "code",
   "execution_count": 2,
   "id": "c6ca4e79-945a-4ec6-ba8a-26f4407dfcb6",
   "metadata": {},
   "outputs": [],
   "source": [
    "deces2008_2017 = pd.read_excel('Commune - Décès/base_deces_2018.xlsx')\n",
    "deces2014_2020 = pd.read_excel('Commune - Décès/base_deces_2020.xlsx')"
   ]
  },
  {
   "cell_type": "code",
   "execution_count": 3,
   "id": "caf02c76-24c3-4fa7-b11f-48c6dc615bfc",
   "metadata": {},
   "outputs": [],
   "source": [
    "deces2008_2017 = deces2008_2017[deces2008_2017.CODGEO=='69081']\n",
    "deces2014_2020 = deces2014_2020[deces2014_2020.CODGEO=='69081']"
   ]
  },
  {
   "cell_type": "code",
   "execution_count": 4,
   "id": "0223964d-0c54-4dcf-939a-e12d21396d98",
   "metadata": {},
   "outputs": [],
   "source": [
    "deces2008_2017 = deces2008_2017.drop(columns=['LIBGEO', 'REG', 'DEP'])\n",
    "deces2008_2017 = deces2008_2017.rename(columns={'DECESD09':'2009','DECESD10':'2010','DECESD11':'2011','DECESD12':'2012',\n",
    "                                                'DECESD13':'2013','DECESD14':'2014','DECESD15':'2015','DECESD16':'2016',\n",
    "                                                'DECESD17':'2017','DECESD18':'2018'})"
   ]
  },
  {
   "cell_type": "code",
   "execution_count": 5,
   "id": "dbfee547-d3d2-46ed-ab6b-da0a7c3ffceb",
   "metadata": {},
   "outputs": [],
   "source": [
    "deces2014_2020 = deces2014_2020[['CODGEO','DECESD19','DECESD20']].rename(columns={'DECESD19':'2019','DECESD20':'20120'})"
   ]
  },
  {
   "cell_type": "code",
   "execution_count": 6,
   "id": "28acbf3c-2847-499b-a9ac-0c1036af115c",
   "metadata": {},
   "outputs": [
    {
     "data": {
      "text/html": [
       "<div>\n",
       "<style scoped>\n",
       "    .dataframe tbody tr th:only-of-type {\n",
       "        vertical-align: middle;\n",
       "    }\n",
       "\n",
       "    .dataframe tbody tr th {\n",
       "        vertical-align: top;\n",
       "    }\n",
       "\n",
       "    .dataframe thead th {\n",
       "        text-align: right;\n",
       "    }\n",
       "</style>\n",
       "<table border=\"1\" class=\"dataframe\">\n",
       "  <thead>\n",
       "    <tr style=\"text-align: right;\">\n",
       "      <th></th>\n",
       "      <th>ANNEE</th>\n",
       "      <th>deces</th>\n",
       "    </tr>\n",
       "  </thead>\n",
       "  <tbody>\n",
       "    <tr>\n",
       "      <th>0</th>\n",
       "      <td>2009</td>\n",
       "      <td>131</td>\n",
       "    </tr>\n",
       "    <tr>\n",
       "      <th>1</th>\n",
       "      <td>2010</td>\n",
       "      <td>115</td>\n",
       "    </tr>\n",
       "    <tr>\n",
       "      <th>2</th>\n",
       "      <td>2011</td>\n",
       "      <td>130</td>\n",
       "    </tr>\n",
       "    <tr>\n",
       "      <th>3</th>\n",
       "      <td>2012</td>\n",
       "      <td>106</td>\n",
       "    </tr>\n",
       "    <tr>\n",
       "      <th>4</th>\n",
       "      <td>2013</td>\n",
       "      <td>126</td>\n",
       "    </tr>\n",
       "  </tbody>\n",
       "</table>\n",
       "</div>"
      ],
      "text/plain": [
       "  ANNEE  deces\n",
       "0  2009    131\n",
       "1  2010    115\n",
       "2  2011    130\n",
       "3  2012    106\n",
       "4  2013    126"
      ]
     },
     "execution_count": 6,
     "metadata": {},
     "output_type": "execute_result"
    }
   ],
   "source": [
    "deces = deces2008_2017.merge(deces2014_2020, on ='CODGEO')\n",
    "deces = deces.drop(columns=['CODGEO'])\n",
    "deces = deces.transpose().reset_index(drop=False).rename(columns={'index':'ANNEE',0:'deces'})\n",
    "deces['deces'] = deces['deces'].astype(int)\n",
    "deces.head()"
   ]
  },
  {
   "cell_type": "code",
   "execution_count": 7,
   "id": "b9cdafeb-855b-4f2f-917c-47f8ce741d8a",
   "metadata": {},
   "outputs": [
    {
     "name": "stdout",
     "output_type": "stream",
     "text": [
      "Base Décès chargée !\n"
     ]
    }
   ],
   "source": [
    "deces.to_csv('Data/Commune - deces.csv')\n",
    "\n",
    "print(\"Base Décès chargée !\")"
   ]
  }
 ],
 "metadata": {
  "kernelspec": {
   "display_name": "Python 3 (ipykernel)",
   "language": "python",
   "name": "python3"
  },
  "language_info": {
   "codemirror_mode": {
    "name": "ipython",
    "version": 3
   },
   "file_extension": ".py",
   "mimetype": "text/x-python",
   "name": "python",
   "nbconvert_exporter": "python",
   "pygments_lexer": "ipython3",
   "version": "3.9.7"
  }
 },
 "nbformat": 4,
 "nbformat_minor": 5
}
