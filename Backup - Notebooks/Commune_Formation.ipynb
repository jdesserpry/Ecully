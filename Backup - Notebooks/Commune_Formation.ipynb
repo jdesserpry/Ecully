{
 "cells": [
  {
   "cell_type": "code",
   "execution_count": 1,
   "id": "a1bde8c3-d7c0-4853-9d94-4c56d36640ca",
   "metadata": {},
   "outputs": [],
   "source": [
    "import pandas as pd"
   ]
  },
  {
   "cell_type": "code",
   "execution_count": 2,
   "id": "f186c89b-497f-49b6-8c10-6377028f6d01",
   "metadata": {},
   "outputs": [],
   "source": [
    "formation = pd.read_excel('Commune - Formation/formation.xlsx')\n",
    "\n",
    "formation2009 = pd.read_excel('Commune - Formation/base-cc-diplomes-formation-2009.xls')\n",
    "formation2010 = pd.read_excel('Commune - Formation/base-cc-diplomes-formation-2010.xls')\n",
    "formation2011 = pd.read_excel('Commune - Formation/base-cc-diplomes-formation_2011.xls')\n",
    "formation2012 = pd.read_excel('Commune - Formation/base-cc-diplomes-formation_2012.xls')\n",
    "formation2013 = pd.read_excel('Commune - Formation/base-cc-diplomes-formation-2013.xls')\n",
    "formation2014 = pd.read_excel('Commune - Formation/base-ic-diplomes-formation-2014.xls')"
   ]
  },
  {
   "cell_type": "code",
   "execution_count": 3,
   "id": "79c94abb-1914-4483-8cc6-9fe04a8c6b0d",
   "metadata": {},
   "outputs": [],
   "source": [
    "formation2009 = formation2009[formation2009.CODGEO=='69081']\n",
    "formation2010 = formation2010[formation2010.CODGEO=='69081']\n",
    "formation2011 = formation2011[formation2011.CODGEO=='69081']\n",
    "formation2012 = formation2012[formation2012.CODGEO=='69081']\n",
    "formation2013 = formation2013[formation2013.CODGEO=='69081']\n",
    "formation2014 = formation2014[formation2014.COM=='69081']"
   ]
  },
  {
   "cell_type": "code",
   "execution_count": 4,
   "id": "c27b2bfe-f83c-447c-9311-b0d4043ea5a5",
   "metadata": {},
   "outputs": [],
   "source": [
    "formation2009['ANNEE'] = 2009\n",
    "formation2010['ANNEE'] = 2010\n",
    "formation2011['ANNEE'] = 2011\n",
    "formation2012['ANNEE'] = 2012\n",
    "formation2013['ANNEE'] = 2013\n",
    "formation2014 = formation2014.copy()\n",
    "formation2014['ANNEE'] = 2014"
   ]
  },
  {
   "cell_type": "code",
   "execution_count": 5,
   "id": "453b28a9-18e4-4fcc-b620-2492c5cbb581",
   "metadata": {},
   "outputs": [],
   "source": [
    "df_formation = formation[['CODGEO','ANNEE','P_POP0205','P_POP0610']]"
   ]
  },
  {
   "cell_type": "code",
   "execution_count": 6,
   "id": "e8130699-ea38-4c60-a340-94a754cdde9e",
   "metadata": {},
   "outputs": [],
   "source": [
    "df_formation2009 = formation2009[['CODGEO','ANNEE','P09_POP0205','P09_POP0610']]\n",
    "\n",
    "df_formation2009 = (df_formation2009\n",
    "                            .rename(columns={'P09_POP0205':'P_POP0205',\n",
    "                                             'P09_POP0610':'P_POP0610'\n",
    "                                            }))"
   ]
  },
  {
   "cell_type": "code",
   "execution_count": 7,
   "id": "080a2b21-92ed-454e-8f43-0bbef72fa839",
   "metadata": {},
   "outputs": [],
   "source": [
    "df_formation2010 = formation2010[['CODGEO','ANNEE','P10_POP0205','P10_POP0610']]\n",
    "\n",
    "df_formation2010 = (df_formation2010\n",
    "                            .rename(columns={'P10_POP0205':'P_POP0205',\n",
    "                                             'P10_POP0610':'P_POP0610'\n",
    "                                            }))"
   ]
  },
  {
   "cell_type": "code",
   "execution_count": 8,
   "id": "d126aa49-037e-4857-aec5-56c6e500f949",
   "metadata": {},
   "outputs": [],
   "source": [
    "df_formation2011 = formation2011[['CODGEO','ANNEE','P11_POP0205','P11_POP0610']]\n",
    "\n",
    "df_formation2011 = (df_formation2011\n",
    "                            .rename(columns={'P11_POP0205':'P_POP0205',\n",
    "                                             'P11_POP0610':'P_POP0610'\n",
    "                                            }))"
   ]
  },
  {
   "cell_type": "code",
   "execution_count": 9,
   "id": "971db84d-c90f-42b5-b807-778b6d87be39",
   "metadata": {},
   "outputs": [],
   "source": [
    "df_formation2012 = formation2012[['CODGEO','ANNEE','P12_POP0205','P12_POP0610']]\n",
    "\n",
    "df_formation2012 = (df_formation2012\n",
    "                            .rename(columns={'P12_POP0205':'P_POP0205',\n",
    "                                             'P12_POP0610':'P_POP0610'\n",
    "                                            }))"
   ]
  },
  {
   "cell_type": "code",
   "execution_count": 10,
   "id": "13142d2b-cca6-41e2-a1ec-a7862c169999",
   "metadata": {},
   "outputs": [],
   "source": [
    "df_formation2013 = formation2013[['CODGEO','ANNEE','P13_POP0205','P13_POP0610']]\n",
    "\n",
    "df_formation2013 = (df_formation2013\n",
    "                            .rename(columns={'P13_POP0205':'P_POP0205',\n",
    "                                             'P13_POP0610':'P_POP0610'\n",
    "                                            }))"
   ]
  },
  {
   "cell_type": "code",
   "execution_count": 11,
   "id": "81c71f7e-cd46-4d18-a0bd-109d1c5a1d11",
   "metadata": {},
   "outputs": [],
   "source": [
    "df_formation2014 = formation2014[['COM','ANNEE','P14_POP0205','P14_POP0610']]\n",
    "\n",
    "df_formation2014 = (df_formation2014\n",
    "                            .rename(columns={'COM':'CODGEO',\n",
    "                                             'P14_POP0205':'P_POP0205',\n",
    "                                             'P14_POP0610':'P_POP0610'\n",
    "                                            }))\n",
    "\n",
    "df_formation2014 = pd.DataFrame(df_formation2014[['P_POP0205','P_POP0610']].sum()).transpose()\n",
    "df_formation2014['ANNEE'] = 2014\n",
    "df_formation2014['CODGEO'] = '69081'"
   ]
  },
  {
   "cell_type": "code",
   "execution_count": 12,
   "id": "40589127-38fc-41d1-aeff-e018f43abcfe",
   "metadata": {},
   "outputs": [],
   "source": [
    "df_formation = pd.concat([df_formation, df_formation2009,df_formation2010,df_formation2011,df_formation2012,df_formation2013,df_formation2014], axis=0).sort_values('ANNEE').reset_index(drop=True)"
   ]
  },
  {
   "cell_type": "code",
   "execution_count": 13,
   "id": "40f241da-52f8-4369-b2e2-0e49b6bc031d",
   "metadata": {},
   "outputs": [
    {
     "data": {
      "text/html": [
       "<div>\n",
       "<style scoped>\n",
       "    .dataframe tbody tr th:only-of-type {\n",
       "        vertical-align: middle;\n",
       "    }\n",
       "\n",
       "    .dataframe tbody tr th {\n",
       "        vertical-align: top;\n",
       "    }\n",
       "\n",
       "    .dataframe thead th {\n",
       "        text-align: right;\n",
       "    }\n",
       "</style>\n",
       "<table border=\"1\" class=\"dataframe\">\n",
       "  <thead>\n",
       "    <tr style=\"text-align: right;\">\n",
       "      <th></th>\n",
       "      <th>CODGEO</th>\n",
       "      <th>ANNEE</th>\n",
       "      <th>P_POP0205</th>\n",
       "      <th>P_POP0610</th>\n",
       "    </tr>\n",
       "  </thead>\n",
       "  <tbody>\n",
       "    <tr>\n",
       "      <th>0</th>\n",
       "      <td>69081</td>\n",
       "      <td>2009</td>\n",
       "      <td>859.863354</td>\n",
       "      <td>1254.073202</td>\n",
       "    </tr>\n",
       "    <tr>\n",
       "      <th>1</th>\n",
       "      <td>69081</td>\n",
       "      <td>2010</td>\n",
       "      <td>854.243223</td>\n",
       "      <td>1187.579539</td>\n",
       "    </tr>\n",
       "    <tr>\n",
       "      <th>2</th>\n",
       "      <td>69081</td>\n",
       "      <td>2011</td>\n",
       "      <td>837.581841</td>\n",
       "      <td>1107.330558</td>\n",
       "    </tr>\n",
       "    <tr>\n",
       "      <th>3</th>\n",
       "      <td>69081</td>\n",
       "      <td>2012</td>\n",
       "      <td>800.792315</td>\n",
       "      <td>1101.109601</td>\n",
       "    </tr>\n",
       "    <tr>\n",
       "      <th>4</th>\n",
       "      <td>69081</td>\n",
       "      <td>2013</td>\n",
       "      <td>800.640241</td>\n",
       "      <td>1070.975417</td>\n",
       "    </tr>\n",
       "    <tr>\n",
       "      <th>5</th>\n",
       "      <td>69081</td>\n",
       "      <td>2014</td>\n",
       "      <td>792.902816</td>\n",
       "      <td>1106.319748</td>\n",
       "    </tr>\n",
       "    <tr>\n",
       "      <th>6</th>\n",
       "      <td>69081</td>\n",
       "      <td>2015</td>\n",
       "      <td>845.000000</td>\n",
       "      <td>1151.000000</td>\n",
       "    </tr>\n",
       "    <tr>\n",
       "      <th>7</th>\n",
       "      <td>69081</td>\n",
       "      <td>2016</td>\n",
       "      <td>885.808604</td>\n",
       "      <td>1169.084398</td>\n",
       "    </tr>\n",
       "    <tr>\n",
       "      <th>8</th>\n",
       "      <td>69081</td>\n",
       "      <td>2017</td>\n",
       "      <td>900.258102</td>\n",
       "      <td>1216.020107</td>\n",
       "    </tr>\n",
       "    <tr>\n",
       "      <th>9</th>\n",
       "      <td>69081</td>\n",
       "      <td>2018</td>\n",
       "      <td>864.552013</td>\n",
       "      <td>1273.889306</td>\n",
       "    </tr>\n",
       "  </tbody>\n",
       "</table>\n",
       "</div>"
      ],
      "text/plain": [
       "  CODGEO  ANNEE   P_POP0205    P_POP0610\n",
       "0  69081   2009  859.863354  1254.073202\n",
       "1  69081   2010  854.243223  1187.579539\n",
       "2  69081   2011  837.581841  1107.330558\n",
       "3  69081   2012  800.792315  1101.109601\n",
       "4  69081   2013  800.640241  1070.975417\n",
       "5  69081   2014  792.902816  1106.319748\n",
       "6  69081   2015  845.000000  1151.000000\n",
       "7  69081   2016  885.808604  1169.084398\n",
       "8  69081   2017  900.258102  1216.020107\n",
       "9  69081   2018  864.552013  1273.889306"
      ]
     },
     "execution_count": 13,
     "metadata": {},
     "output_type": "execute_result"
    }
   ],
   "source": [
    "df_formation"
   ]
  },
  {
   "cell_type": "code",
   "execution_count": 14,
   "id": "949a499b-bd59-4e3a-be42-6a47c1544eee",
   "metadata": {},
   "outputs": [],
   "source": [
    "df_formation.to_csv('Data/Commune - formation.csv')"
   ]
  },
  {
   "cell_type": "code",
   "execution_count": null,
   "id": "4eb86694-2cf1-43bc-9c63-c34fb7e0114a",
   "metadata": {},
   "outputs": [],
   "source": [
    "print(\"Base Formation chargée !\")"
   ]
  }
 ],
 "metadata": {
  "kernelspec": {
   "display_name": "Python 3 (ipykernel)",
   "language": "python",
   "name": "python3"
  },
  "language_info": {
   "codemirror_mode": {
    "name": "ipython",
    "version": 3
   },
   "file_extension": ".py",
   "mimetype": "text/x-python",
   "name": "python",
   "nbconvert_exporter": "python",
   "pygments_lexer": "ipython3",
   "version": "3.9.7"
  }
 },
 "nbformat": 4,
 "nbformat_minor": 5
}
