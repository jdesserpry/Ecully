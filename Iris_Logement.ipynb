{
 "cells": [
  {
   "cell_type": "code",
   "execution_count": 1,
   "id": "1ee7d34b-93fc-4f40-b10c-1aa76ad198d3",
   "metadata": {},
   "outputs": [],
   "source": [
    "import pandas as pd"
   ]
  },
  {
   "cell_type": "code",
   "execution_count": 2,
   "id": "60125460-dcfe-4d15-afdd-45df7987aa1e",
   "metadata": {},
   "outputs": [
    {
     "ename": "FileNotFoundError",
     "evalue": "[Errno 2] No such file or directory: 'Iris - Logement/BTX_IC_LOG_2009.xls'",
     "output_type": "error",
     "traceback": [
      "\u001b[1;31m---------------------------------------------------------------------------\u001b[0m",
      "\u001b[1;31mFileNotFoundError\u001b[0m                         Traceback (most recent call last)",
      "\u001b[1;32mC:\\Users\\UTILIS~1\\AppData\\Local\\Temp/ipykernel_7068/3500607814.py\u001b[0m in \u001b[0;36m<module>\u001b[1;34m\u001b[0m\n\u001b[1;32m----> 1\u001b[1;33m \u001b[0mlogement2009\u001b[0m \u001b[1;33m=\u001b[0m \u001b[0mpd\u001b[0m\u001b[1;33m.\u001b[0m\u001b[0mread_excel\u001b[0m\u001b[1;33m(\u001b[0m\u001b[1;34m'Iris - Logement/BTX_IC_LOG_2009.xls'\u001b[0m\u001b[1;33m)\u001b[0m\u001b[1;33m\u001b[0m\u001b[1;33m\u001b[0m\u001b[0m\n\u001b[0m\u001b[0;32m      2\u001b[0m \u001b[0mlogement2010\u001b[0m \u001b[1;33m=\u001b[0m \u001b[0mpd\u001b[0m\u001b[1;33m.\u001b[0m\u001b[0mread_excel\u001b[0m\u001b[1;33m(\u001b[0m\u001b[1;34m'Iris - Logement/base-ic-logement-2010.xls'\u001b[0m\u001b[1;33m)\u001b[0m\u001b[1;33m\u001b[0m\u001b[1;33m\u001b[0m\u001b[0m\n\u001b[0;32m      3\u001b[0m \u001b[0mlogement2011\u001b[0m \u001b[1;33m=\u001b[0m \u001b[0mpd\u001b[0m\u001b[1;33m.\u001b[0m\u001b[0mread_excel\u001b[0m\u001b[1;33m(\u001b[0m\u001b[1;34m'Iris - Logement/base-ic-logement-2011.xls'\u001b[0m\u001b[1;33m)\u001b[0m\u001b[1;33m\u001b[0m\u001b[1;33m\u001b[0m\u001b[0m\n\u001b[0;32m      4\u001b[0m \u001b[0mlogement2012\u001b[0m \u001b[1;33m=\u001b[0m \u001b[0mpd\u001b[0m\u001b[1;33m.\u001b[0m\u001b[0mread_excel\u001b[0m\u001b[1;33m(\u001b[0m\u001b[1;34m'Iris - Logement/base-ic-logement-2012.xls'\u001b[0m\u001b[1;33m)\u001b[0m\u001b[1;33m\u001b[0m\u001b[1;33m\u001b[0m\u001b[0m\n\u001b[0;32m      5\u001b[0m \u001b[0mlogement2013\u001b[0m \u001b[1;33m=\u001b[0m \u001b[0mpd\u001b[0m\u001b[1;33m.\u001b[0m\u001b[0mread_excel\u001b[0m\u001b[1;33m(\u001b[0m\u001b[1;34m'Iris - Logement/base-ic-logement-2013.xls'\u001b[0m\u001b[1;33m)\u001b[0m\u001b[1;33m\u001b[0m\u001b[1;33m\u001b[0m\u001b[0m\n",
      "\u001b[1;32m~\\anaconda3\\lib\\site-packages\\pandas\\util\\_decorators.py\u001b[0m in \u001b[0;36mwrapper\u001b[1;34m(*args, **kwargs)\u001b[0m\n\u001b[0;32m    309\u001b[0m                     \u001b[0mstacklevel\u001b[0m\u001b[1;33m=\u001b[0m\u001b[0mstacklevel\u001b[0m\u001b[1;33m,\u001b[0m\u001b[1;33m\u001b[0m\u001b[1;33m\u001b[0m\u001b[0m\n\u001b[0;32m    310\u001b[0m                 )\n\u001b[1;32m--> 311\u001b[1;33m             \u001b[1;32mreturn\u001b[0m \u001b[0mfunc\u001b[0m\u001b[1;33m(\u001b[0m\u001b[1;33m*\u001b[0m\u001b[0margs\u001b[0m\u001b[1;33m,\u001b[0m \u001b[1;33m**\u001b[0m\u001b[0mkwargs\u001b[0m\u001b[1;33m)\u001b[0m\u001b[1;33m\u001b[0m\u001b[1;33m\u001b[0m\u001b[0m\n\u001b[0m\u001b[0;32m    312\u001b[0m \u001b[1;33m\u001b[0m\u001b[0m\n\u001b[0;32m    313\u001b[0m         \u001b[1;32mreturn\u001b[0m \u001b[0mwrapper\u001b[0m\u001b[1;33m\u001b[0m\u001b[1;33m\u001b[0m\u001b[0m\n",
      "\u001b[1;32m~\\anaconda3\\lib\\site-packages\\pandas\\io\\excel\\_base.py\u001b[0m in \u001b[0;36mread_excel\u001b[1;34m(io, sheet_name, header, names, index_col, usecols, squeeze, dtype, engine, converters, true_values, false_values, skiprows, nrows, na_values, keep_default_na, na_filter, verbose, parse_dates, date_parser, thousands, comment, skipfooter, convert_float, mangle_dupe_cols, storage_options)\u001b[0m\n\u001b[0;32m    362\u001b[0m     \u001b[1;32mif\u001b[0m \u001b[1;32mnot\u001b[0m \u001b[0misinstance\u001b[0m\u001b[1;33m(\u001b[0m\u001b[0mio\u001b[0m\u001b[1;33m,\u001b[0m \u001b[0mExcelFile\u001b[0m\u001b[1;33m)\u001b[0m\u001b[1;33m:\u001b[0m\u001b[1;33m\u001b[0m\u001b[1;33m\u001b[0m\u001b[0m\n\u001b[0;32m    363\u001b[0m         \u001b[0mshould_close\u001b[0m \u001b[1;33m=\u001b[0m \u001b[1;32mTrue\u001b[0m\u001b[1;33m\u001b[0m\u001b[1;33m\u001b[0m\u001b[0m\n\u001b[1;32m--> 364\u001b[1;33m         \u001b[0mio\u001b[0m \u001b[1;33m=\u001b[0m \u001b[0mExcelFile\u001b[0m\u001b[1;33m(\u001b[0m\u001b[0mio\u001b[0m\u001b[1;33m,\u001b[0m \u001b[0mstorage_options\u001b[0m\u001b[1;33m=\u001b[0m\u001b[0mstorage_options\u001b[0m\u001b[1;33m,\u001b[0m \u001b[0mengine\u001b[0m\u001b[1;33m=\u001b[0m\u001b[0mengine\u001b[0m\u001b[1;33m)\u001b[0m\u001b[1;33m\u001b[0m\u001b[1;33m\u001b[0m\u001b[0m\n\u001b[0m\u001b[0;32m    365\u001b[0m     \u001b[1;32melif\u001b[0m \u001b[0mengine\u001b[0m \u001b[1;32mand\u001b[0m \u001b[0mengine\u001b[0m \u001b[1;33m!=\u001b[0m \u001b[0mio\u001b[0m\u001b[1;33m.\u001b[0m\u001b[0mengine\u001b[0m\u001b[1;33m:\u001b[0m\u001b[1;33m\u001b[0m\u001b[1;33m\u001b[0m\u001b[0m\n\u001b[0;32m    366\u001b[0m         raise ValueError(\n",
      "\u001b[1;32m~\\anaconda3\\lib\\site-packages\\pandas\\io\\excel\\_base.py\u001b[0m in \u001b[0;36m__init__\u001b[1;34m(self, path_or_buffer, engine, storage_options)\u001b[0m\n\u001b[0;32m   1189\u001b[0m                 \u001b[0mext\u001b[0m \u001b[1;33m=\u001b[0m \u001b[1;34m\"xls\"\u001b[0m\u001b[1;33m\u001b[0m\u001b[1;33m\u001b[0m\u001b[0m\n\u001b[0;32m   1190\u001b[0m             \u001b[1;32melse\u001b[0m\u001b[1;33m:\u001b[0m\u001b[1;33m\u001b[0m\u001b[1;33m\u001b[0m\u001b[0m\n\u001b[1;32m-> 1191\u001b[1;33m                 ext = inspect_excel_format(\n\u001b[0m\u001b[0;32m   1192\u001b[0m                     \u001b[0mcontent_or_path\u001b[0m\u001b[1;33m=\u001b[0m\u001b[0mpath_or_buffer\u001b[0m\u001b[1;33m,\u001b[0m \u001b[0mstorage_options\u001b[0m\u001b[1;33m=\u001b[0m\u001b[0mstorage_options\u001b[0m\u001b[1;33m\u001b[0m\u001b[1;33m\u001b[0m\u001b[0m\n\u001b[0;32m   1193\u001b[0m                 )\n",
      "\u001b[1;32m~\\anaconda3\\lib\\site-packages\\pandas\\io\\excel\\_base.py\u001b[0m in \u001b[0;36minspect_excel_format\u001b[1;34m(content_or_path, storage_options)\u001b[0m\n\u001b[0;32m   1068\u001b[0m         \u001b[0mcontent_or_path\u001b[0m \u001b[1;33m=\u001b[0m \u001b[0mBytesIO\u001b[0m\u001b[1;33m(\u001b[0m\u001b[0mcontent_or_path\u001b[0m\u001b[1;33m)\u001b[0m\u001b[1;33m\u001b[0m\u001b[1;33m\u001b[0m\u001b[0m\n\u001b[0;32m   1069\u001b[0m \u001b[1;33m\u001b[0m\u001b[0m\n\u001b[1;32m-> 1070\u001b[1;33m     with get_handle(\n\u001b[0m\u001b[0;32m   1071\u001b[0m         \u001b[0mcontent_or_path\u001b[0m\u001b[1;33m,\u001b[0m \u001b[1;34m\"rb\"\u001b[0m\u001b[1;33m,\u001b[0m \u001b[0mstorage_options\u001b[0m\u001b[1;33m=\u001b[0m\u001b[0mstorage_options\u001b[0m\u001b[1;33m,\u001b[0m \u001b[0mis_text\u001b[0m\u001b[1;33m=\u001b[0m\u001b[1;32mFalse\u001b[0m\u001b[1;33m\u001b[0m\u001b[1;33m\u001b[0m\u001b[0m\n\u001b[0;32m   1072\u001b[0m     ) as handle:\n",
      "\u001b[1;32m~\\anaconda3\\lib\\site-packages\\pandas\\io\\common.py\u001b[0m in \u001b[0;36mget_handle\u001b[1;34m(path_or_buf, mode, encoding, compression, memory_map, is_text, errors, storage_options)\u001b[0m\n\u001b[0;32m    709\u001b[0m         \u001b[1;32melse\u001b[0m\u001b[1;33m:\u001b[0m\u001b[1;33m\u001b[0m\u001b[1;33m\u001b[0m\u001b[0m\n\u001b[0;32m    710\u001b[0m             \u001b[1;31m# Binary mode\u001b[0m\u001b[1;33m\u001b[0m\u001b[1;33m\u001b[0m\u001b[0m\n\u001b[1;32m--> 711\u001b[1;33m             \u001b[0mhandle\u001b[0m \u001b[1;33m=\u001b[0m \u001b[0mopen\u001b[0m\u001b[1;33m(\u001b[0m\u001b[0mhandle\u001b[0m\u001b[1;33m,\u001b[0m \u001b[0mioargs\u001b[0m\u001b[1;33m.\u001b[0m\u001b[0mmode\u001b[0m\u001b[1;33m)\u001b[0m\u001b[1;33m\u001b[0m\u001b[1;33m\u001b[0m\u001b[0m\n\u001b[0m\u001b[0;32m    712\u001b[0m         \u001b[0mhandles\u001b[0m\u001b[1;33m.\u001b[0m\u001b[0mappend\u001b[0m\u001b[1;33m(\u001b[0m\u001b[0mhandle\u001b[0m\u001b[1;33m)\u001b[0m\u001b[1;33m\u001b[0m\u001b[1;33m\u001b[0m\u001b[0m\n\u001b[0;32m    713\u001b[0m \u001b[1;33m\u001b[0m\u001b[0m\n",
      "\u001b[1;31mFileNotFoundError\u001b[0m: [Errno 2] No such file or directory: 'Iris - Logement/BTX_IC_LOG_2009.xls'"
     ]
    }
   ],
   "source": [
    "logement2009 = pd.read_excel('Iris - Logement/BTX_IC_LOG_2009.xls')\n",
    "logement2010 = pd.read_excel('Iris - Logement/base-ic-logement-2010.xls')\n",
    "logement2011 = pd.read_excel('Iris - Logement/base-ic-logement-2011.xls')\n",
    "logement2012 = pd.read_excel('Iris - Logement/base-ic-logement-2012.xls')\n",
    "logement2013 = pd.read_excel('Iris - Logement/base-ic-logement-2013.xls')\n",
    "logement2014 = pd.read_excel('Iris - Logement/base-ic-logement-2014.xls')\n",
    "logement2015 = pd.read_excel('Iris - Logement/base-ic-logement-2015.xls')\n",
    "logement2016 = pd.read_excel('Iris - Logement/base-ic-logement-2016.xls')\n",
    "logement2017 = pd.read_csv('Iris - Logement/base-ic-logement-2017.CSV', sep=\";\")\n",
    "logement2018 = pd.read_csv('Iris - Logement/base-ic-logement-2018.CSV', sep=\";\")"
   ]
  },
  {
   "cell_type": "code",
   "execution_count": null,
   "id": "22367bb2-fabe-4a12-8fee-e8adec11d91d",
   "metadata": {},
   "outputs": [],
   "source": [
    "logement2009 = logement2009[logement2009.COM=='69081']\n",
    "logement2010 = logement2010[logement2010.COM=='69081']\n",
    "logement2011 = logement2011[logement2011.COM=='69081']\n",
    "logement2012 = logement2012[logement2012.COM=='69081']\n",
    "logement2013 = logement2013[logement2013.COM=='69081']\n",
    "logement2014 = logement2014[logement2014.COM=='69081']\n",
    "logement2015 = logement2015[logement2015.COM=='69081']\n",
    "logement2016 = logement2016[logement2016.COM=='69081']\n",
    "logement2017 = logement2017[logement2017.COM=='69081']\n",
    "logement2018 = logement2018[logement2018.COM=='69081']"
   ]
  },
  {
   "cell_type": "code",
   "execution_count": null,
   "id": "9d76ab5f-d44d-488e-9b81-4c313d15b8d9",
   "metadata": {},
   "outputs": [],
   "source": [
    "logement2009['ANNEE'] = 2009\n",
    "logement2010['ANNEE'] = 2010\n",
    "logement2011['ANNEE'] = 2011\n",
    "logement2012['ANNEE'] = 2012\n",
    "logement2013['ANNEE'] = 2013\n",
    "logement2014['ANNEE'] = 2014\n",
    "logement2015['ANNEE'] = 2015\n",
    "logement2016['ANNEE'] = 2016\n",
    "logement2017['ANNEE'] = 2017\n",
    "logement2018['ANNEE'] = 2018"
   ]
  },
  {
   "cell_type": "code",
   "execution_count": null,
   "id": "cfce0203-5192-422a-99b2-16fb085b1333",
   "metadata": {},
   "outputs": [],
   "source": [
    "df_logement2009 = logement2009[['IRIS', 'COM','ANNEE','P09_LOG','P09_MAISON', 'P09_APPART']]\n",
    "\n",
    "df_logement2009 = (df_logement2009\n",
    "                            .rename(columns={'P09_LOG':'P_LOG',\n",
    "                                             'P09_MAISON':'P_MAISON',\n",
    "                                             'P09_APPART':'P_APPART'\n",
    "                                            }))"
   ]
  },
  {
   "cell_type": "code",
   "execution_count": null,
   "id": "e52d8d24-2c8d-4d17-b8ba-e7ec2aed17a3",
   "metadata": {},
   "outputs": [],
   "source": [
    "df_logement2010 = logement2010[['IRIS', 'COM','ANNEE','P10_LOG','P10_MAISON', 'P10_APPART']]\n",
    "\n",
    "df_logement2010 = (df_logement2010\n",
    "                            .rename(columns={'P10_LOG':'P_LOG',\n",
    "                                             'P10_MAISON':'P_MAISON',\n",
    "                                             'P10_APPART':'P_APPART'\n",
    "                                            }))"
   ]
  },
  {
   "cell_type": "code",
   "execution_count": null,
   "id": "19dbf3ea-9bfa-476f-960e-0311f1d6875f",
   "metadata": {},
   "outputs": [],
   "source": [
    "df_logement2011 = logement2011[['IRIS', 'COM','ANNEE','P11_LOG','P11_MAISON', 'P11_APPART']]\n",
    "\n",
    "df_logement2011 = (df_logement2011\n",
    "                            .rename(columns={'P11_LOG':'P_LOG',\n",
    "                                             'P11_MAISON':'P_MAISON',\n",
    "                                             'P11_APPART':'P_APPART'\n",
    "                                            }))"
   ]
  },
  {
   "cell_type": "code",
   "execution_count": null,
   "id": "792ed925-0711-45ae-9764-163b179999c0",
   "metadata": {},
   "outputs": [],
   "source": [
    "df_logement2012 = logement2012[['IRIS', 'COM','ANNEE','P12_LOG','P12_MAISON', 'P12_APPART']]\n",
    "\n",
    "df_logement2012 = (df_logement2012\n",
    "                            .rename(columns={'P12_LOG':'P_LOG',\n",
    "                                             'P12_MAISON':'P_MAISON',\n",
    "                                             'P12_APPART':'P_APPART'\n",
    "                                            }))"
   ]
  },
  {
   "cell_type": "code",
   "execution_count": null,
   "id": "3267dcaf-1b82-471f-99f9-8cd030b2c67e",
   "metadata": {},
   "outputs": [],
   "source": [
    "df_logement2013 = logement2013[['IRIS', 'COM','ANNEE','P13_LOG','P13_MAISON', 'P13_APPART']]\n",
    "\n",
    "df_logement2013 = (df_logement2013\n",
    "                            .rename(columns={'P13_LOG':'P_LOG',\n",
    "                                             'P13_MAISON':'P_MAISON',\n",
    "                                             'P13_APPART':'P_APPART'\n",
    "                                            }))"
   ]
  },
  {
   "cell_type": "code",
   "execution_count": null,
   "id": "638b8a6c-f5f4-463d-ac31-747d10da2a36",
   "metadata": {},
   "outputs": [],
   "source": [
    "df_logement2014 = logement2014[['IRIS', 'COM','ANNEE','P14_LOG','P14_MAISON', 'P14_APPART']]\n",
    "\n",
    "df_logement2014 = (df_logement2014\n",
    "                            .rename(columns={'P14_LOG':'P_LOG',\n",
    "                                             'P14_MAISON':'P_MAISON',\n",
    "                                             'P14_APPART':'P_APPART'\n",
    "                                            }))"
   ]
  },
  {
   "cell_type": "code",
   "execution_count": null,
   "id": "81a0519e-174a-4222-989c-8b3e7a110e52",
   "metadata": {},
   "outputs": [],
   "source": [
    "df_logement2015 = logement2015[['IRIS', 'COM','ANNEE','P15_LOG','P15_MAISON', 'P15_APPART']]\n",
    "\n",
    "df_logement2015 = (df_logement2015\n",
    "                            .rename(columns={'P15_LOG':'P_LOG',\n",
    "                                             'P15_MAISON':'P_MAISON',\n",
    "                                             'P15_APPART':'P_APPART'\n",
    "                                            }))"
   ]
  },
  {
   "cell_type": "code",
   "execution_count": null,
   "id": "691e59c2-4846-4437-8fcc-702ea73409af",
   "metadata": {},
   "outputs": [],
   "source": [
    "df_logement2016 = logement2016[['IRIS', 'COM','ANNEE','P16_LOG','P16_MAISON', 'P16_APPART']]\n",
    "\n",
    "df_logement2016 = (df_logement2016\n",
    "                            .rename(columns={'P16_LOG':'P_LOG',\n",
    "                                             'P16_MAISON':'P_MAISON',\n",
    "                                             'P16_APPART':'P_APPART'\n",
    "                                            }))"
   ]
  },
  {
   "cell_type": "code",
   "execution_count": null,
   "id": "6e17ab1a-65de-4ba9-bf86-24a71b09c1bc",
   "metadata": {},
   "outputs": [],
   "source": [
    "df_logement2017 = logement2017[['IRIS', 'COM','ANNEE','P17_LOG','P17_MAISON', 'P17_APPART']]\n",
    "\n",
    "df_logement2017 = (df_logement2017\n",
    "                            .rename(columns={'P17_LOG':'P_LOG',\n",
    "                                             'P17_MAISON':'P_MAISON',\n",
    "                                             'P17_APPART':'P_APPART'\n",
    "                                            }))"
   ]
  },
  {
   "cell_type": "code",
   "execution_count": null,
   "id": "c6d1ed41-89e3-4830-8cae-fb2721f5df0b",
   "metadata": {},
   "outputs": [],
   "source": [
    "df_logement2018 = logement2018[['IRIS', 'COM','ANNEE','P18_LOG','P18_MAISON', 'P18_APPART']]\n",
    "\n",
    "df_logement2018 = (df_logement2018\n",
    "                            .rename(columns={'P18_LOG':'P_LOG',\n",
    "                                             'P18_MAISON':'P_MAISON',\n",
    "                                             'P18_APPART':'P_APPART'\n",
    "                                            }))"
   ]
  },
  {
   "cell_type": "code",
   "execution_count": null,
   "id": "c3331b52-95b9-4ff2-84c8-7634b56f9bac",
   "metadata": {},
   "outputs": [],
   "source": [
    "df_logement = pd.concat([df_logement2009,\n",
    "                         df_logement2010,\n",
    "                         df_logement2011,\n",
    "                         df_logement2012,\n",
    "                         df_logement2013,\n",
    "                         df_logement2014,\n",
    "                         df_logement2015,\n",
    "                         df_logement2016,\n",
    "                         df_logement2017,\n",
    "                         df_logement2018], axis=0).sort_values('ANNEE').reset_index(drop=True)"
   ]
  },
  {
   "cell_type": "code",
   "execution_count": null,
   "id": "00b1eb8e-8b6e-4d6b-ab54-e46c89410b5b",
   "metadata": {},
   "outputs": [],
   "source": [
    "df_logement"
   ]
  },
  {
   "cell_type": "code",
   "execution_count": null,
   "id": "8604b7c9-d876-4f32-ad0c-3b3ac38bd84a",
   "metadata": {},
   "outputs": [],
   "source": [
    "df_logement.to_csv('Data/Iris - formation.csv')"
   ]
  },
  {
   "cell_type": "code",
   "execution_count": null,
   "id": "78ac6ce5-02a6-4874-b61f-3c31d07c6cab",
   "metadata": {},
   "outputs": [],
   "source": [
    "print(\"Base Logement chargée !\")"
   ]
  }
 ],
 "metadata": {
  "kernelspec": {
   "display_name": "Python 3 (ipykernel)",
   "language": "python",
   "name": "python3"
  },
  "language_info": {
   "codemirror_mode": {
    "name": "ipython",
    "version": 3
   },
   "file_extension": ".py",
   "mimetype": "text/x-python",
   "name": "python",
   "nbconvert_exporter": "python",
   "pygments_lexer": "ipython3",
   "version": "3.9.7"
  }
 },
 "nbformat": 4,
 "nbformat_minor": 5
}
