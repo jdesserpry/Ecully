{
 "cells": [
  {
   "cell_type": "code",
   "execution_count": 1,
   "id": "5aad3666-cbc9-41a2-8ba0-c9df2881cf2e",
   "metadata": {},
   "outputs": [],
   "source": [
    "import pandas as pd"
   ]
  },
  {
   "cell_type": "code",
   "execution_count": 2,
   "id": "98cb3387-4348-412f-b5db-687cfb29a18f",
   "metadata": {},
   "outputs": [],
   "source": [
    "naissances = pd.read_excel('Commune - Naissances/base_naissances_2018.xlsx')\n",
    "naissances2 = pd.read_csv('Commune - Naissances/base_naissances_2020.csv', sep=\";\")"
   ]
  },
  {
   "cell_type": "code",
   "execution_count": 3,
   "id": "7d3df7c1-24a7-4e21-ba02-f461a7a25f70",
   "metadata": {},
   "outputs": [],
   "source": [
    "naissances = naissances[naissances.CODGEO=='69081']\n",
    "naissances2 = naissances2[naissances2.CODGEO=='69081']"
   ]
  },
  {
   "cell_type": "code",
   "execution_count": 4,
   "id": "ac25e2ac-80f8-4292-be03-02379d963f5d",
   "metadata": {},
   "outputs": [],
   "source": [
    "naissances2 = naissances2[['CODGEO', 'NAISD19', 'NAISD20']]"
   ]
  },
  {
   "cell_type": "code",
   "execution_count": 5,
   "id": "e9023a69-3dcc-40ec-9d59-a462ae62f828",
   "metadata": {},
   "outputs": [],
   "source": [
    "df_naissances = pd.merge(naissances, naissances2, on = 'CODGEO')\n",
    "df_naissances = df_naissances.drop(['LIBGEO','REG','DEP'], axis = 1)"
   ]
  },
  {
   "cell_type": "code",
   "execution_count": 6,
   "id": "bce563d1-615f-43af-9ca1-5ed99aac3df4",
   "metadata": {},
   "outputs": [
    {
     "data": {
      "text/html": [
       "<div>\n",
       "<style scoped>\n",
       "    .dataframe tbody tr th:only-of-type {\n",
       "        vertical-align: middle;\n",
       "    }\n",
       "\n",
       "    .dataframe tbody tr th {\n",
       "        vertical-align: top;\n",
       "    }\n",
       "\n",
       "    .dataframe thead th {\n",
       "        text-align: right;\n",
       "    }\n",
       "</style>\n",
       "<table border=\"1\" class=\"dataframe\">\n",
       "  <thead>\n",
       "    <tr style=\"text-align: right;\">\n",
       "      <th></th>\n",
       "      <th>CODGEO</th>\n",
       "      <th>NAISD09</th>\n",
       "      <th>NAISD10</th>\n",
       "      <th>NAISD11</th>\n",
       "      <th>NAISD12</th>\n",
       "      <th>NAISD13</th>\n",
       "      <th>NAISD14</th>\n",
       "      <th>NAISD15</th>\n",
       "      <th>NAISD16</th>\n",
       "      <th>NAISD17</th>\n",
       "      <th>NAISD18</th>\n",
       "      <th>NAISD19</th>\n",
       "      <th>NAISD20</th>\n",
       "    </tr>\n",
       "  </thead>\n",
       "  <tbody>\n",
       "    <tr>\n",
       "      <th>0</th>\n",
       "      <td>69081</td>\n",
       "      <td>217.0</td>\n",
       "      <td>185.0</td>\n",
       "      <td>214.0</td>\n",
       "      <td>192.0</td>\n",
       "      <td>189.0</td>\n",
       "      <td>201.0</td>\n",
       "      <td>173.0</td>\n",
       "      <td>175</td>\n",
       "      <td>171</td>\n",
       "      <td>158</td>\n",
       "      <td>176</td>\n",
       "      <td>179</td>\n",
       "    </tr>\n",
       "  </tbody>\n",
       "</table>\n",
       "</div>"
      ],
      "text/plain": [
       "  CODGEO  NAISD09  NAISD10  NAISD11  NAISD12  NAISD13  NAISD14  NAISD15  \\\n",
       "0  69081    217.0    185.0    214.0    192.0    189.0    201.0    173.0   \n",
       "\n",
       "   NAISD16  NAISD17  NAISD18  NAISD19  NAISD20  \n",
       "0      175      171      158      176      179  "
      ]
     },
     "execution_count": 6,
     "metadata": {},
     "output_type": "execute_result"
    }
   ],
   "source": [
    "df_naissances"
   ]
  },
  {
   "cell_type": "code",
   "execution_count": 7,
   "id": "5243da77-8058-4ddd-9526-a09b0fc2c781",
   "metadata": {},
   "outputs": [],
   "source": [
    "df_naissances.to_csv('Data/Commune - naissances.csv')"
   ]
  },
  {
   "cell_type": "code",
   "execution_count": null,
   "id": "c7326e45-e02d-4f0e-bb12-fbde74fdb4c8",
   "metadata": {},
   "outputs": [],
   "source": [
    "print(\"Base Naissances chargée !\")"
   ]
  }
 ],
 "metadata": {
  "kernelspec": {
   "display_name": "Python 3 (ipykernel)",
   "language": "python",
   "name": "python3"
  },
  "language_info": {
   "codemirror_mode": {
    "name": "ipython",
    "version": 3
   },
   "file_extension": ".py",
   "mimetype": "text/x-python",
   "name": "python",
   "nbconvert_exporter": "python",
   "pygments_lexer": "ipython3",
   "version": "3.9.7"
  }
 },
 "nbformat": 4,
 "nbformat_minor": 5
}
